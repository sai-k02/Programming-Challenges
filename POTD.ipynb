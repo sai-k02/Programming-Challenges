{
 "cells": [
  {
   "cell_type": "markdown",
   "metadata": {},
   "source": [
    "This is a collection of problems given to me via email from dailycodingproblems.com"
   ]
  },
  {
   "cell_type": "markdown",
   "metadata": {},
   "source": [
    "December 29th 2021 - Amazon Problem\n",
    "\n",
    "There's a staircase with N steps, and you can climb 1 or 2 steps at a time. Given N, write a function that returns the number of unique ways you can climb the staircase. The order of the steps matters.\n",
    "\n",
    "For example, if N is 4, then there are 5 unique ways:\n",
    "\n",
    "1, 1, 1, 1\n",
    "2, 1, 1\n",
    "1, 2, 1\n",
    "1, 1, 2\n",
    "2, 2\n",
    "\n",
    "What if, instead of being able to climb 1 or 2 steps at a time, you could climb any number from a set of positive integers X? For example, if X = {1, 3, 5}, you could climb 1, 3, or 5 steps at a time. Generalize your function to take in X."
   ]
  },
  {
   "cell_type": "code",
   "execution_count": 33,
   "metadata": {},
   "outputs": [
    {
     "name": "stdout",
     "output_type": "stream",
     "text": [
      "1, 1, 1, 1\n",
      "2, 2\n",
      "2, 1, 1\n",
      "1, 1, 2\n",
      "1, 2, 1"
     ]
    }
   ],
   "source": [
    "# write a function when given N steps, return the number of unique ways you can climb the staircase\n",
    "# you can only climb the staircase with 1 or 2 steps\n",
    "\n",
    "def uniqueSteps(steps):\n",
    "    # case 1 going up the stairs one by one \n",
    "    for count in range(0, steps):\n",
    "        if(count+1 == steps):\n",
    "            print(1 , end = \"\\n\", sep=\"\")\n",
    "        else:\n",
    "            print(1 , \", \", end = \"\", sep=\"\")\n",
    "\n",
    "    # case 2 if n is evenly divisible by 2\n",
    "    if(steps % 2 == 0):\n",
    "        numTimesDivByTwo = int(steps * (1/2))\n",
    "        for count in range(0, numTimesDivByTwo):\n",
    "            if(count+1 == numTimesDivByTwo):\n",
    "                print(2 , end = \"\\n\", sep=\"\")\n",
    "            else:\n",
    "                print(2 , \", \", end = \"\", sep=\"\")\n",
    "\n",
    "    # case 3 if n is evenly distributed by 2 then we can include 2 and then count up by 1\n",
    "    if(steps % 2 == 0):\n",
    "        numTimesDivByTwo = int (steps* 1/2)\n",
    "        print(2, \",\", sep= \"\", end =\" \")\n",
    "        for count in range(0, steps-2):\n",
    "            if(count+1 == steps-2):\n",
    "                print(1 , end = \"\\n\", sep=\"\")\n",
    "            else:\n",
    "                print(1 , \", \", end = \"\", sep=\"\")\n",
    "\n",
    "\n",
    "    # case 4 if n is evenly distributed by 2 then lets do the same thing but in a different order\n",
    "    if(steps % 2 == 0):\n",
    "        numTimesDivByTwo = int (steps* 1/2)\n",
    "        for count in range(0, steps-2):\n",
    "            if(count+1 == steps-2):\n",
    "                print(1 , end = \", \", sep=\"\")\n",
    "            else:\n",
    "                print(1 , \", \", end = \"\", sep=\"\")\n",
    "        print(2, sep= \"\", end =\"\\n\")\n",
    "\n",
    "    # case 5 if n is evenly distributed by 2 then lets go ahead and put the 2 in the middle\n",
    "    if(steps % 2 == 0):\n",
    "        numTimesDivByTwo = int (steps* 1/2)\n",
    "        for count in range(0, steps-2):\n",
    "            if(count+1 == steps-2):\n",
    "                print(2, sep= \"\", end =\", \")\n",
    "                print(1 , end = \"\", sep=\"\")\n",
    "            else:\n",
    "                print(1 , \", \", end = \"\", sep=\"\")\n",
    "        \n",
    "\n",
    "\n",
    "\n",
    "\n",
    "def main():\n",
    "    uniqueSteps(4)\n",
    "\n",
    "\n",
    "main()\n",
    "\n"
   ]
  },
  {
   "cell_type": "markdown",
   "metadata": {},
   "source": [
    "December 30th 2021 - Facebook\n",
    "\n",
    "Given a list of numbers and a number k, return whether any two numbers from the list add up to k.\n",
    "\n",
    "For example, given [10, 15, 3, 7] and k of 17, return true since 10 + 7 is 17.\n",
    "\n",
    "\n",
    "# We are use two solutions one use a set so hashmaps to see the difference in speed"
   ]
  },
  {
   "cell_type": "code",
   "execution_count": 38,
   "metadata": {},
   "outputs": [
    {
     "name": "stdout",
     "output_type": "stream",
     "text": [
      "11.473924874999284\n",
      "8.25366132199997\n"
     ]
    }
   ],
   "source": [
    "import timeit\n",
    "\n",
    "# this function will check if two numbers will add up to the given number\n",
    "def addOrNot():\n",
    "    numList = [10,15,3,7]\n",
    "    num = 16\n",
    "    for element in numList:\n",
    "        for elementTwo in numList:\n",
    "            if(element + elementTwo) == num:\n",
    "                return True\n",
    "\n",
    "    return False\n",
    "\n",
    "# this function will check if the two numbers in the list will add up to the given number in ONE PASS\n",
    "def addOrNotOptimized():\n",
    "    numList = [10,15,3,7]\n",
    "    num = 16\n",
    "    numListSet = set(numList)\n",
    "    for element in numListSet:\n",
    "        if abs(element-num) in numListSet:\n",
    "            return True\n",
    "    \n",
    "    return False\n",
    "\n",
    "\n",
    "\n",
    "print (timeit.timeit(addOrNot, number = 10000000))\n",
    "print (timeit.timeit(addOrNotOptimized, number = 10000000))\n"
   ]
  },
  {
   "cell_type": "markdown",
   "metadata": {},
   "source": [
    "December 31st 2021 - Uber Problem\n",
    "\n",
    "Given an array of integers, return a new array such that each element at index i of the new array is the product of all the numbers in the original array except the one at i.\n",
    "\n",
    "For example, if our input was [1, 2, 3, 4, 5], the expected output would be [120, 60, 40, 30, 24]. If our input was [3, 2, 1], the expected output would be [2, 3, 6].\n",
    "\n",
    "Follow-up: what if you can't use division?\n",
    "\n"
   ]
  },
  {
   "cell_type": "code",
   "execution_count": 19,
   "metadata": {},
   "outputs": [
    {
     "name": "stdout",
     "output_type": "stream",
     "text": [
      "[1, 2, 3, 4, 5] -> [120, 60, 40, 30, 24]\n",
      "[3, 2, 1] -> [2, 3, 6]\n"
     ]
    }
   ],
   "source": [
    "# this function will return the proper product to place\n",
    "def productFinder(i, numArray) -> int: \n",
    "    product = 1\n",
    "    for j in range(0,len(numArray)):\n",
    "        if(j==i):\n",
    "            pass\n",
    "        else:\n",
    "            product *= numArray[j]\n",
    "\n",
    "    return product\n",
    "\n",
    "\n",
    "# this function will return a new array where the ith value will be the product of all other values       \n",
    "def arrayFinder(numArray) -> list:\n",
    "    finalArray = numArray[:]\n",
    "\n",
    "    for i in range(0,len(numArray)):\n",
    "        finalArray[i] = productFinder(i, numArray)\n",
    "\n",
    "    return finalArray\n",
    "\n",
    "def main():\n",
    "    numArray = [1,2,3,4,5]\n",
    "    numArrayTwo = [3,2,1]\n",
    "    print(numArray, \"->\", arrayFinder(numArray))\n",
    "    print(numArrayTwo, \"->\", arrayFinder(numArrayTwo))\n",
    "\n",
    "main()\n",
    "\n",
    "\n",
    "\n",
    "\n"
   ]
  },
  {
   "cell_type": "markdown",
   "metadata": {},
   "source": [
    "Given the root to a binary tree, implement serialize(root), which serializes the tree into a string, and deserialize(s), which deserializes the string back into the tree.\n",
    "\n",
    "For example, given the following Node class\n",
    "\n",
    "'''python3\n",
    "class Node:\n",
    "    \n",
    "'''\n",
    "\n",
    "\n",
    "\n",
    "The following test should pass:\n",
    "'''python3\n",
    "node = Node('root', Node('left', Node('left.left')), Node('right'))\n",
    "assert deserialize(serialize(node)).left.left.val == 'left.left'\n",
    "'''\n",
    "\n"
   ]
  },
  {
   "cell_type": "code",
   "execution_count": 14,
   "metadata": {},
   "outputs": [
    {
     "name": "stdout",
     "output_type": "stream",
     "text": [
      "String after serializing node: 1 2 # # 3 # # \n",
      "Assert: True\n"
     ]
    }
   ],
   "source": [
    "\"\"\"\n",
    "    Create the binary tree using the Node class.\n",
    "    Serializing:\n",
    "    To serialize the tree into a string, I considered the null nodes as #.\n",
    "    Starting from root, Depth First Search is used to traverse through the tree.\n",
    "    If a node exists, its value is appended to the string and the left sub tree is traversed.\n",
    "    This process continues until there are no more children left. Then a '#' is appended to the array and the recursive function is exited.\n",
    "    Then the right sub tree is traversed and the same process is followed.\n",
    "    The final resulting is string is returned.\n",
    "\n",
    "\n",
    "    Deserializing:\n",
    "    To deserialize a string to form a tree, the first word in the space seperated string is considered as the root.\n",
    "    When a '#' is encountered, it is considered as a empty node and None is returned.\n",
    "    In the remaining cases, a new node with the value as the word is formed and the remaining string is traversed.\n",
    "    This function is called recursively until the end of the string is reached.\n",
    "\n",
    "        \n",
    "    \"\"\"\n",
    "\n",
    "class Node:\n",
    "    def __init__(self, val, left=None, right=None):\n",
    "        self.val = val\n",
    "        self.left = left\n",
    "        self.right = right\n",
    "\n",
    "\n",
    "node = Node('root', Node('left', Node('left.left')), Node('right'))\n",
    "nodeSai = Node('1',Node('2'),Node('3'))\n",
    "s = \"\"\n",
    "\n",
    "# serializing function\n",
    "\n",
    "\n",
    "def serialize(node, s=\"\"):\n",
    "    if(not node):\n",
    "        s += \"# \"\n",
    "        return s\n",
    "    s += (str(node.val)+\" \")\n",
    "    s = serialize(node.left, s=s)\n",
    "    s = serialize(node.right, s=s)\n",
    "    return s\n",
    "\n",
    "\n",
    "# deserializing function\n",
    "i = 0\n",
    "def deserialize(s):\n",
    "    global i\n",
    "    if s[i] == \"#\":\n",
    "        if(i < len(s)-2):\n",
    "            i += 2\n",
    "        return None\n",
    "    else:\n",
    "        space = s[i:].find(\" \")\n",
    "        sp = space+i\n",
    "        node = Node(s[i:sp])\n",
    "        i = sp+1\n",
    "        node.left = deserialize(s)\n",
    "        node.right = deserialize(s)\n",
    "        return node\n",
    "\n",
    "print(\"String after serializing node: \"+serialize(nodeSai))\n",
    "\n",
    "print(\"Assert:\",deserialize(serialize(nodeSai)).left.val == '2')\n"
   ]
  },
  {
<<<<<<< HEAD
=======
   "cell_type": "markdown",
   "metadata": {},
   "source": [
    "cons(a, b) constructs a pair, and car(pair) and cdr(pair) returns the first and last element of that pair. For example, car(cons(3, 4)) returns 3, and cdr(cons(3, 4)) returns 4.\n",
    "\n",
    "def cons(a, b):\n",
    "    def pair(f):\n",
    "        return f(a, b)\n",
    "    return pair\n"
   ]
  },
  {
   "cell_type": "code",
   "execution_count": 5,
   "metadata": {},
   "outputs": [
    {
     "ename": "NameError",
     "evalue": "name 'f' is not defined",
     "output_type": "error",
     "traceback": [
      "\u001b[0;31m---------------------------------------------------------------------------\u001b[0m",
      "\u001b[0;31mNameError\u001b[0m                                 Traceback (most recent call last)",
      "\u001b[0;32m/var/folders/vq/mwtc_7m545j46hr2hp18p52h0000gn/T/ipykernel_52376/3785840519.py\u001b[0m in \u001b[0;36m<module>\u001b[0;34m\u001b[0m\n\u001b[1;32m     17\u001b[0m     \u001b[0;32mreturn\u001b[0m \u001b[0mf\u001b[0m\u001b[0;34m(\u001b[0m\u001b[0mright\u001b[0m\u001b[0;34m)\u001b[0m\u001b[0;34m\u001b[0m\u001b[0;34m\u001b[0m\u001b[0m\n\u001b[1;32m     18\u001b[0m \u001b[0;34m\u001b[0m\u001b[0m\n\u001b[0;32m---> 19\u001b[0;31m \u001b[0mprint\u001b[0m\u001b[0;34m(\u001b[0m\u001b[0mcar\u001b[0m\u001b[0;34m(\u001b[0m\u001b[0mcons\u001b[0m\u001b[0;34m(\u001b[0m\u001b[0;36m3\u001b[0m\u001b[0;34m,\u001b[0m\u001b[0;36m4\u001b[0m\u001b[0;34m)\u001b[0m\u001b[0;34m)\u001b[0m\u001b[0;34m)\u001b[0m\u001b[0;34m\u001b[0m\u001b[0;34m\u001b[0m\u001b[0m\n\u001b[0m\u001b[1;32m     20\u001b[0m \u001b[0mprint\u001b[0m\u001b[0;34m(\u001b[0m\u001b[0mcdr\u001b[0m\u001b[0;34m(\u001b[0m\u001b[0mcons\u001b[0m\u001b[0;34m(\u001b[0m\u001b[0;36m3\u001b[0m\u001b[0;34m,\u001b[0m\u001b[0;36m4\u001b[0m\u001b[0;34m)\u001b[0m\u001b[0;34m)\u001b[0m\u001b[0;34m)\u001b[0m\u001b[0;34m\u001b[0m\u001b[0;34m\u001b[0m\u001b[0m\n",
      "\u001b[0;32m/var/folders/vq/mwtc_7m545j46hr2hp18p52h0000gn/T/ipykernel_52376/3785840519.py\u001b[0m in \u001b[0;36mcar\u001b[0;34m(pair)\u001b[0m\n\u001b[1;32m      8\u001b[0m     \u001b[0;32mdef\u001b[0m \u001b[0mleft\u001b[0m\u001b[0;34m(\u001b[0m\u001b[0ma\u001b[0m\u001b[0;34m,\u001b[0m \u001b[0mb\u001b[0m\u001b[0;34m)\u001b[0m\u001b[0;34m:\u001b[0m\u001b[0;34m\u001b[0m\u001b[0;34m\u001b[0m\u001b[0m\n\u001b[1;32m      9\u001b[0m         \u001b[0;32mreturn\u001b[0m \u001b[0ma\u001b[0m\u001b[0;34m\u001b[0m\u001b[0;34m\u001b[0m\u001b[0m\n\u001b[0;32m---> 10\u001b[0;31m     \u001b[0;32mreturn\u001b[0m \u001b[0mf\u001b[0m\u001b[0;34m(\u001b[0m\u001b[0mleft\u001b[0m\u001b[0;34m)\u001b[0m\u001b[0;34m\u001b[0m\u001b[0;34m\u001b[0m\u001b[0m\n\u001b[0m\u001b[1;32m     11\u001b[0m \u001b[0;34m\u001b[0m\u001b[0m\n\u001b[1;32m     12\u001b[0m \u001b[0;31m# return the last element\u001b[0m\u001b[0;34m\u001b[0m\u001b[0;34m\u001b[0m\u001b[0;34m\u001b[0m\u001b[0m\n",
      "\u001b[0;31mNameError\u001b[0m: name 'f' is not defined"
     ]
    }
   ],
   "source": [
    "def cons(a, b):\n",
    "    def pair(f):\n",
    "        return f(a, b)\n",
    "    return pair\n",
    "\n",
    "# return the first element\n",
    "def car(pair):\n",
    "    def left(a, b):\n",
    "        return a\n",
    "    return f(left)\n",
    "\n",
    "# return the last element\n",
    "def cdr(pair):\n",
    "    def right(a, b):\n",
    "        return b\n",
    "\n",
    "    return f(right)\n",
    "\n",
    "print(car(cons(3,4)))\n",
    "print(cdr(cons(3,4)))"
   ]
  },
  {
>>>>>>> 4f786b0c6501f211469efeda3f534e6f2c1193fc
   "cell_type": "code",
   "execution_count": null,
   "metadata": {},
   "outputs": [],
   "source": []
  }
 ],
 "metadata": {
  "interpreter": {
   "hash": "aee8b7b246df8f9039afb4144a1f6fd8d2ca17a180786b69acc140d282b71a49"
  },
  "kernelspec": {
   "display_name": "Python 3.9.5 64-bit",
   "language": "python",
   "name": "python3"
  },
  "language_info": {
   "codemirror_mode": {
    "name": "ipython",
    "version": 3
   },
   "file_extension": ".py",
   "mimetype": "text/x-python",
   "name": "python",
   "nbconvert_exporter": "python",
   "pygments_lexer": "ipython3",
   "version": "3.9.5"
  },
  "orig_nbformat": 4
 },
 "nbformat": 4,
 "nbformat_minor": 2
}
