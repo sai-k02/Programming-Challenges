{
 "cells": [
  {
   "cell_type": "markdown",
   "metadata": {},
   "source": [
    "December 29th 2021 - Amazon Problem\n",
    "\n",
    "There's a staircase with N steps, and you can climb 1 or 2 steps at a time. Given N, write a function that returns the number of unique ways you can climb the staircase. The order of the steps matters.\n",
    "\n",
    "For example, if N is 4, then there are 5 unique ways:\n",
    "\n",
    "1, 1, 1, 1\n",
    "2, 1, 1\n",
    "1, 2, 1\n",
    "1, 1, 2\n",
    "2, 2\n",
    "\n",
    "What if, instead of being able to climb 1 or 2 steps at a time, you could climb any number from a set of positive integers X? For example, if X = {1, 3, 5}, you could climb 1, 3, or 5 steps at a time. Generalize your function to take in X."
   ]
  },
  {
   "cell_type": "code",
   "execution_count": 33,
   "metadata": {},
   "outputs": [
    {
     "name": "stdout",
     "output_type": "stream",
     "text": [
      "1, 1, 1, 1\n",
      "2, 2\n",
      "2, 1, 1\n",
      "1, 1, 2\n",
      "1, 2, 1"
     ]
    }
   ],
   "source": [
    "# write a function when given N steps, return the number of unique ways you can climb the staircase\n",
    "# you can only climb the staircase with 1 or 2 steps\n",
    "# \n",
    "\n",
    "def uniqueSteps(steps):\n",
    "    # case 1 going up the stairs one by one \n",
    "    for count in range(0, steps):\n",
    "        if(count+1 == steps):\n",
    "            print(1 , end = \"\\n\", sep=\"\")\n",
    "        else:\n",
    "            print(1 , \", \", end = \"\", sep=\"\")\n",
    "\n",
    "    # case 2 if n is evenly divisible by 2\n",
    "    if(steps % 2 == 0):\n",
    "        numTimesDivByTwo = int(steps * (1/2))\n",
    "        for count in range(0, numTimesDivByTwo):\n",
    "            if(count+1 == numTimesDivByTwo):\n",
    "                print(2 , end = \"\\n\", sep=\"\")\n",
    "            else:\n",
    "                print(2 , \", \", end = \"\", sep=\"\")\n",
    "\n",
    "    # case 3 if n is evenly distributed by 2 then we can include 2 and then count up by 1\n",
    "    if(steps % 2 == 0):\n",
    "        numTimesDivByTwo = int (steps* 1/2)\n",
    "        print(2, \",\", sep= \"\", end =\" \")\n",
    "        for count in range(0, steps-2):\n",
    "            if(count+1 == steps-2):\n",
    "                print(1 , end = \"\\n\", sep=\"\")\n",
    "            else:\n",
    "                print(1 , \", \", end = \"\", sep=\"\")\n",
    "\n",
    "\n",
    "    # case 4 if n is evenly distributed by 2 then lets do the same thing but in a different order\n",
    "    if(steps % 2 == 0):\n",
    "        numTimesDivByTwo = int (steps* 1/2)\n",
    "        for count in range(0, steps-2):\n",
    "            if(count+1 == steps-2):\n",
    "                print(1 , end = \", \", sep=\"\")\n",
    "            else:\n",
    "                print(1 , \", \", end = \"\", sep=\"\")\n",
    "        print(2, sep= \"\", end =\"\\n\")\n",
    "\n",
    "    # case 5 if n is evenly distributed by 2 then lets go ahead and put the 2 in the middle\n",
    "    if(steps % 2 == 0):\n",
    "        numTimesDivByTwo = int (steps* 1/2)\n",
    "        for count in range(0, steps-2):\n",
    "            if(count+1 == steps-2):\n",
    "                print(2, sep= \"\", end =\", \")\n",
    "                print(1 , end = \"\", sep=\"\")\n",
    "            else:\n",
    "                print(1 , \", \", end = \"\", sep=\"\")\n",
    "        \n",
    "\n",
    "\n",
    "\n",
    "\n",
    "def main():\n",
    "    uniqueSteps(4)\n",
    "\n",
    "\n",
    "main()\n",
    "\n"
   ]
  },
  {
   "cell_type": "markdown",
   "metadata": {},
   "source": [
    "Given a list of numbers and a number k, return whether any two numbers from the list add up to k.\n",
    "\n",
    "For example, given [10, 15, 3, 7] and k of 17, return true since 10 + 7 is 17."
   ]
  },
  {
   "cell_type": "code",
   "execution_count": 38,
   "metadata": {},
   "outputs": [
    {
     "name": "stdout",
     "output_type": "stream",
     "text": [
      "11.473924874999284\n",
      "8.25366132199997\n"
     ]
    }
   ],
   "source": [
    "import timeit\n",
    "\n",
    "\n",
    "\n",
    "\n",
    "# this function will check if two numbers will add up to the given number\n",
    "def addOrNot():\n",
    "    numList = [10,15,3,7]\n",
    "    num = 16\n",
    "    for element in numList:\n",
    "        for elementTwo in numList:\n",
    "            if(element + elementTwo) == num:\n",
    "                return True\n",
    "\n",
    "    return False\n",
    "\n",
    "# this function will check if the two numbers in the list will add up to the given number in ONE PASS\n",
    "def addOrNotOptimized():\n",
    "    numList = [10,15,3,7]\n",
    "    num = 16\n",
    "    numListSet = set(numList)\n",
    "    for element in numListSet:\n",
    "        if abs(element-num) in numListSet:\n",
    "            return True\n",
    "    \n",
    "    return False\n",
    "\n",
    "\n",
    "\n",
    "print (timeit.timeit(addOrNot, number = 10000000))\n",
    "print (timeit.timeit(addOrNotOptimized, number = 10000000))\n"
   ]
  },
  {
   "cell_type": "code",
   "execution_count": null,
   "metadata": {},
   "outputs": [],
   "source": []
  },
  {
   "cell_type": "code",
   "execution_count": null,
   "metadata": {},
   "outputs": [],
   "source": []
  }
 ],
 "metadata": {
  "interpreter": {
   "hash": "aee8b7b246df8f9039afb4144a1f6fd8d2ca17a180786b69acc140d282b71a49"
  },
  "kernelspec": {
   "display_name": "Python 3.9.5 64-bit",
   "language": "python",
   "name": "python3"
  },
  "language_info": {
   "codemirror_mode": {
    "name": "ipython",
    "version": 3
   },
   "file_extension": ".py",
   "mimetype": "text/x-python",
   "name": "python",
   "nbconvert_exporter": "python",
   "pygments_lexer": "ipython3",
   "version": "3.9.5"
  },
  "orig_nbformat": 4
 },
 "nbformat": 4,
 "nbformat_minor": 2
}
